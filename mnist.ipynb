{
  "nbformat": 4,
  "nbformat_minor": 0,
  "metadata": {
    "colab": {
      "provenance": [],
      "authorship_tag": "ABX9TyNlMUCyHU2UvbpTQPiENu26",
      "include_colab_link": true
    },
    "kernelspec": {
      "name": "python3",
      "display_name": "Python 3"
    },
    "language_info": {
      "name": "python"
    }
  },
  "cells": [
    {
      "cell_type": "markdown",
      "metadata": {
        "id": "view-in-github",
        "colab_type": "text"
      },
      "source": [
        "<a href=\"https://colab.research.google.com/github/pashtetttt/tda/blob/main/mnist.ipynb\" target=\"_parent\"><img src=\"https://colab.research.google.com/assets/colab-badge.svg\" alt=\"Open In Colab\"/></a>"
      ]
    },
    {
      "cell_type": "code",
      "execution_count": null,
      "metadata": {
        "id": "OviePgGd-Rmt"
      },
      "outputs": [],
      "source": [
        "!pip install git+https://github.com/aimclub/eXplain-NNs &> /dev/null"
      ]
    },
    {
      "cell_type": "code",
      "source": [
        "! pip install torchmetrics &> /dev/null\n",
        "! pip install pip install giotto-ph==0.2.2 &> /dev/null\n",
        "! pip install pip install giotto-tda==0.6.0 &> /dev/null\n",
        "! pip install umap-learn==0.5.3 &> /dev/null"
      ],
      "metadata": {
        "id": "hZ7m2Z87-mlw"
      },
      "execution_count": null,
      "outputs": []
    },
    {
      "cell_type": "code",
      "source": [
        "import torch\n",
        "import torch.nn as nn\n",
        "import torchvision\n",
        "from torchvision.datasets import MNIST\n",
        "import torchvision.transforms as transforms\n",
        "import eXNN.topology"
      ],
      "metadata": {
        "id": "dRO-_HkG-pSB"
      },
      "execution_count": null,
      "outputs": []
    },
    {
      "cell_type": "code",
      "source": [
        "tfm = transforms.ToTensor()\n",
        "train_ds = MNIST(root='./.cache', train=True, download=True, transform=tfm)\n",
        "test_ds = MNIST(root='./.cache', train=False, download=False, transform=tfm)\n",
        "train_dl = torch.utils.data.DataLoader(train_ds, batch_size=36, shuffle=True)\n",
        "test_dl = torch.utils.data.DataLoader(test_ds, batch_size=36, shuffle=False)"
      ],
      "metadata": {
        "colab": {
          "base_uri": "https://localhost:8080/"
        },
        "id": "at_GilQB-zBu",
        "outputId": "7410fae9-085c-45d0-de8c-2687c65b7c95"
      },
      "execution_count": null,
      "outputs": [
        {
          "output_type": "stream",
          "name": "stdout",
          "text": [
            "Downloading http://yann.lecun.com/exdb/mnist/train-images-idx3-ubyte.gz\n",
            "Downloading http://yann.lecun.com/exdb/mnist/train-images-idx3-ubyte.gz to ./.cache/MNIST/raw/train-images-idx3-ubyte.gz\n"
          ]
        },
        {
          "output_type": "stream",
          "name": "stderr",
          "text": [
            "100%|██████████| 9912422/9912422 [00:00<00:00, 107859988.70it/s]\n"
          ]
        },
        {
          "output_type": "stream",
          "name": "stdout",
          "text": [
            "Extracting ./.cache/MNIST/raw/train-images-idx3-ubyte.gz to ./.cache/MNIST/raw\n",
            "\n",
            "Downloading http://yann.lecun.com/exdb/mnist/train-labels-idx1-ubyte.gz\n",
            "Downloading http://yann.lecun.com/exdb/mnist/train-labels-idx1-ubyte.gz to ./.cache/MNIST/raw/train-labels-idx1-ubyte.gz\n"
          ]
        },
        {
          "output_type": "stream",
          "name": "stderr",
          "text": [
            "100%|██████████| 28881/28881 [00:00<00:00, 69698327.86it/s]\n"
          ]
        },
        {
          "output_type": "stream",
          "name": "stdout",
          "text": [
            "Extracting ./.cache/MNIST/raw/train-labels-idx1-ubyte.gz to ./.cache/MNIST/raw\n",
            "\n",
            "Downloading http://yann.lecun.com/exdb/mnist/t10k-images-idx3-ubyte.gz\n",
            "Downloading http://yann.lecun.com/exdb/mnist/t10k-images-idx3-ubyte.gz to ./.cache/MNIST/raw/t10k-images-idx3-ubyte.gz\n"
          ]
        },
        {
          "output_type": "stream",
          "name": "stderr",
          "text": [
            "100%|██████████| 1648877/1648877 [00:00<00:00, 31399190.02it/s]\n"
          ]
        },
        {
          "output_type": "stream",
          "name": "stdout",
          "text": [
            "Extracting ./.cache/MNIST/raw/t10k-images-idx3-ubyte.gz to ./.cache/MNIST/raw\n",
            "\n",
            "Downloading http://yann.lecun.com/exdb/mnist/t10k-labels-idx1-ubyte.gz\n",
            "Downloading http://yann.lecun.com/exdb/mnist/t10k-labels-idx1-ubyte.gz to ./.cache/MNIST/raw/t10k-labels-idx1-ubyte.gz\n"
          ]
        },
        {
          "output_type": "stream",
          "name": "stderr",
          "text": [
            "100%|██████████| 4542/4542 [00:00<00:00, 3706328.55it/s]"
          ]
        },
        {
          "output_type": "stream",
          "name": "stdout",
          "text": [
            "Extracting ./.cache/MNIST/raw/t10k-labels-idx1-ubyte.gz to ./.cache/MNIST/raw\n",
            "\n"
          ]
        },
        {
          "output_type": "stream",
          "name": "stderr",
          "text": [
            "\n"
          ]
        }
      ]
    },
    {
      "cell_type": "code",
      "source": [
        "class SimpleNN(nn.Module):\n",
        "    def __init__(self, input_dim, output_dim, hidden_dim, leaky_coef=0.1):\n",
        "        super(SimpleNN, self).__init__()\n",
        "\n",
        "        self.layer1 = nn.Sequential(\n",
        "            nn.Linear(input_dim, hidden_dim),\n",
        "            nn.LeakyReLU(leaky_coef)\n",
        "        )\n",
        "        self.layer2 = nn.Sequential(\n",
        "            nn.Linear(hidden_dim, hidden_dim),\n",
        "            nn.LeakyReLU(leaky_coef)\n",
        "        )\n",
        "        self.layer3 = nn.Sequential(\n",
        "            nn.Linear(hidden_dim, output_dim)#,\n",
        "            #nn.Sigmoid()\n",
        "        )\n",
        "\n",
        "    def forward(self, x):\n",
        "        x = nn.Flatten()(x)\n",
        "        x = self.layer1(x)\n",
        "        x = self.layer2(x)\n",
        "        x = self.layer3(x)\n",
        "        return x"
      ],
      "metadata": {
        "id": "P3WmwgSe-3PJ"
      },
      "execution_count": null,
      "outputs": []
    },
    {
      "cell_type": "code",
      "source": [
        "num_classes = 10\n",
        "device = torch.device(\"cuda\") if torch.cuda.is_available() else torch.device(\"cpu\")\n",
        "model = SimpleNN(28*28, num_classes, 64).to(device)\n",
        "optimizer = torch.optim.Adam(model.parameters(), lr=1e-3)\n",
        "\n",
        "n_epochs = 20\n",
        "loss_fn = nn.CrossEntropyLoss()\n",
        "for epoch in list(range(n_epochs)):\n",
        "    for imgs, lbls in train_dl:\n",
        "        optimizer.zero_grad()\n",
        "        out = model(imgs.to(device))\n",
        "        loss = loss_fn(out, lbls.to(device))\n",
        "        loss.backward()\n",
        "        optimizer.step()\n",
        "    print(\"Epoch {} loss: {}\".format(epoch, loss.item()))"
      ],
      "metadata": {
        "colab": {
          "base_uri": "https://localhost:8080/"
        },
        "id": "dvpvDfKZ-4S7",
        "outputId": "c4de8da2-85d3-4fc7-8526-8e9a794f4109"
      },
      "execution_count": null,
      "outputs": [
        {
          "output_type": "stream",
          "name": "stdout",
          "text": [
            "Epoch 0 loss: 0.09214351326227188\n",
            "Epoch 1 loss: 0.1667184829711914\n",
            "Epoch 2 loss: 0.09419047087430954\n",
            "Epoch 3 loss: 0.4755725860595703\n",
            "Epoch 4 loss: 0.04249119386076927\n",
            "Epoch 5 loss: 0.015336944721639156\n",
            "Epoch 6 loss: 0.003473076969385147\n",
            "Epoch 7 loss: 0.009149531833827496\n",
            "Epoch 8 loss: 0.13641735911369324\n",
            "Epoch 9 loss: 0.02000771090388298\n",
            "Epoch 10 loss: 0.04627572000026703\n",
            "Epoch 11 loss: 0.009238620288670063\n",
            "Epoch 12 loss: 0.000711600121576339\n",
            "Epoch 13 loss: 0.015676921233534813\n",
            "Epoch 14 loss: 0.0045183091424405575\n",
            "Epoch 15 loss: 0.0001952003367478028\n",
            "Epoch 16 loss: 0.001763058826327324\n",
            "Epoch 17 loss: 0.009892155416309834\n",
            "Epoch 18 loss: 0.03718740865588188\n",
            "Epoch 19 loss: 0.00029603272560052574\n"
          ]
        }
      ]
    },
    {
      "cell_type": "code",
      "source": [
        "model = model.to(torch.device('cpu'))\n",
        "data = torch.stack([test_ds[i][0] for i in range(100)])\n",
        "barcodes = eXNN.topology.get_nn_barcodes(model, data, layers = ['layer2', 'layer1'],\n",
        "                                                 hom_type = \"standard\", coefs_type = \"2\")\n",
        "barcode = barcodes['layer2']"
      ],
      "metadata": {
        "id": "OUU7NidF_ai8"
      },
      "execution_count": null,
      "outputs": []
    },
    {
      "cell_type": "code",
      "source": [
        "len(test_ds)"
      ],
      "metadata": {
        "colab": {
          "base_uri": "https://localhost:8080/"
        },
        "id": "LXZ2pz1g7prN",
        "outputId": "1d4a25c6-62c2-41a9-ba80-888463c9d95e"
      },
      "execution_count": null,
      "outputs": [
        {
          "output_type": "execute_result",
          "data": {
            "text/plain": [
              "10000"
            ]
          },
          "metadata": {},
          "execution_count": 40
        }
      ]
    },
    {
      "cell_type": "code",
      "source": [
        "barcode1 = barcodes['layer1']"
      ],
      "metadata": {
        "id": "aoyXB8_49NHy"
      },
      "execution_count": null,
      "outputs": []
    },
    {
      "cell_type": "code",
      "source": [
        "eXNN.topology.plot_barcode(barcode)"
      ],
      "metadata": {
        "colab": {
          "base_uri": "https://localhost:8080/",
          "height": 440
        },
        "id": "qDpz6dqU_e7C",
        "outputId": "83b6421a-986a-4f8f-9fd5-f7cd82675600"
      },
      "execution_count": null,
      "outputs": [
        {
          "output_type": "execute_result",
          "data": {
            "text/plain": [
              "<Figure size 1500x500 with 1 Axes>"
            ],
            "image/png": "[encoded data removed]"
          },
          "metadata": {},
          "execution_count": 22
        }
      ]
    },
    {
      "cell_type": "code",
      "source": [
        "count = 0\n",
        "data = torch.stack([test_ds[i][0] for i in range(count*100, count*100 + 100)])\n",
        "barcodes = eXNN.topology.get_nn_barcodes(model, data, layers = ['layer2', 'layer1'],\n",
        "                                                hom_type = \"standard\", coefs_type = \"2\")\n",
        "barcode = barcodes['layer2']\n",
        "eXNN.topology.plot_barcode(barcode)\n"
      ],
      "metadata": {
        "colab": {
          "base_uri": "https://localhost:8080/",
          "height": 440
        },
        "id": "qwYqPPJBFOKv",
        "outputId": "c1e92edd-e024-43c3-b3b3-b10e7d1294a0"
      },
      "execution_count": null,
      "outputs": [
        {
          "output_type": "execute_result",
          "data": {
            "text/plain": [
              "<Figure size 1500x500 with 1 Axes>"
            ],
            "image/png": "[encoded data removed]"
          },
          "metadata": {},
          "execution_count": 36
        }
      ]
    },
    {
      "cell_type": "code",
      "source": [
        "count = 1\n",
        "data = torch.stack([test_ds[i][0] for i in range(count*100, count*100 + 100)])\n",
        "barcodes = eXNN.topology.get_nn_barcodes(model, data, layers = ['layer2', 'layer1'],\n",
        "                                                hom_type = \"standard\", coefs_type = \"2\")\n",
        "barcode = barcodes['layer2']\n",
        "eXNN.topology.plot_barcode(barcode)"
      ],
      "metadata": {
        "colab": {
          "base_uri": "https://localhost:8080/",
          "height": 488
        },
        "id": "MALXDEvhJ-a-",
        "outputId": "29dc2b4a-be8d-4566-ac2c-d47471bf4f0d"
      },
      "execution_count": null,
      "outputs": [
        {
          "output_type": "execute_result",
          "data": {
            "text/plain": [
              "<Figure size 1500x500 with 1 Axes>"
            ],
            "image/png": "[encoded data removed]"
          },
          "metadata": {},
          "execution_count": 37
        }
      ]
    },
    {
      "cell_type": "code",
      "source": [
        "count = 2\n",
        "data = torch.stack([test_ds[i][0] for i in range(count*100, count*100 + 100)])\n",
        "barcodes = eXNN.topology.get_nn_barcodes(model, data, layers = ['layer2', 'layer1'],\n",
        "                                                hom_type = \"standard\", coefs_type = \"2\")\n",
        "barcode = barcodes['layer2']\n",
        "eXNN.topology.plot_barcode(barcode)"
      ],
      "metadata": {
        "colab": {
          "base_uri": "https://localhost:8080/",
          "height": 440
        },
        "id": "2-VSgECZKDZx",
        "outputId": "fadadfc6-29d1-4efd-bb8f-1c261e09712e"
      },
      "execution_count": null,
      "outputs": [
        {
          "output_type": "execute_result",
          "data": {
            "text/plain": [
              "<Figure size 1500x500 with 1 Axes>"
            ],
            "image/png": "[encoded data removed]"
          },
          "metadata": {},
          "execution_count": 38
        }
      ]
    },
    {
      "cell_type": "code",
      "source": [
        "count = 3\n",
        "data = torch.stack([test_ds[i][0] for i in range(count*100, count*100 + 100)])\n",
        "barcodes = eXNN.topology.get_nn_barcodes(model, data, layers = ['layer2', 'layer1'],\n",
        "                                                hom_type = \"standard\", coefs_type = \"2\")\n",
        "barcode = barcodes['layer2']\n",
        "eXNN.topology.plot_barcode(barcode)"
      ],
      "metadata": {
        "colab": {
          "base_uri": "https://localhost:8080/",
          "height": 440
        },
        "id": "b_Zn5AnEKGEG",
        "outputId": "545b4f55-a87f-44a7-f885-219c581caacf"
      },
      "execution_count": null,
      "outputs": [
        {
          "output_type": "execute_result",
          "data": {
            "text/plain": [
              "<Figure size 1500x500 with 1 Axes>"
            ],
            "image/png": "[encoded data removed]"
          },
          "metadata": {},
          "execution_count": 39
        }
      ]
    },
    {
      "cell_type": "code",
      "source": [
        "eXNN.topology.evaluate_barcode(barcode)"
      ],
      "metadata": {
        "colab": {
          "base_uri": "https://localhost:8080/"
        },
        "id": "sUmNterC_jWZ",
        "outputId": "4056b449-022c-45cf-a1bf-5699cce23eb0"
      },
      "execution_count": null,
      "outputs": [
        {
          "output_type": "stream",
          "name": "stderr",
          "text": [
            "/usr/local/lib/python3.10/dist-packages/eXNN/topology/metrics.py:128: RuntimeWarning:\n",
            "\n",
            "divide by zero encountered in double_scalars\n",
            "\n"
          ]
        },
        {
          "output_type": "execute_result",
          "data": {
            "text/plain": [
              "{'max_length': 23.13222885131836,\n",
              " 'mean_length': 14.288066897729431,\n",
              " 'median_length': 14.270315170288086,\n",
              " 'stdev_length': 3.787001945066584,\n",
              " 'sum_length': 1414.5186228752136,\n",
              " 'ratio_2_1': 4.214675928336056,\n",
              " 'ratio_3_1': 4.018624154032749,\n",
              " 'h': 4.557923809383491,\n",
              " 'normh': 0.6282853146713488,\n",
              " 'snr': inf,\n",
              " 'mean_birth': 0.0,\n",
              " 'stdev_birth': 0.0,\n",
              " 'mean_death': 14.288066897729431,\n",
              " 'stdev_death': 3.787001945066584}"
            ]
          },
          "metadata": {},
          "execution_count": 9
        }
      ]
    },
    {
      "cell_type": "code",
      "source": [],
      "metadata": {
        "id": "wIaGo89_I1qb"
      },
      "execution_count": null,
      "outputs": []
    }
  ]
}